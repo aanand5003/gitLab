{
 "cells": [
  {
   "cell_type": "markdown",
   "metadata": {},
   "source": [
    "# Dynamic Programming"
   ]
  },
  {
   "cell_type": "markdown",
   "metadata": {},
   "source": [
    "## Fibonnacci numbers"
   ]
  },
  {
   "cell_type": "markdown",
   "metadata": {},
   "source": [
    "[Fibonnacci numbers](https://en.wikipedia.org/wiki/Fibonacci_number) are defined as:  \n",
    "$F_0 = 0$  \n",
    "$F_1 = 1$  \n",
    "$F_n = F_{n-1} + F_{n-2}$ for $n\\geq 2$.  \n",
    "They form a sequence (0,) 1, 1, 2, 3, 5, 8, 13, 21...  \n",
    "Since their defined recursively, it is only natural to compute them this way!"
   ]
  },
  {
   "cell_type": "markdown",
   "metadata": {},
   "source": [
    "### Direct recursive implementation"
   ]
  },
  {
   "cell_type": "markdown",
   "metadata": {},
   "source": [
    "(as seen in previous lectures)"
   ]
  },
  {
   "cell_type": "code",
   "execution_count": 1,
   "metadata": {},
   "outputs": [
    {
     "data": {
      "text/plain": [
       "5"
      ]
     },
     "execution_count": 1,
     "metadata": {},
     "output_type": "execute_result"
    }
   ],
   "source": [
    "def fib(n):\n",
    "    if n == 0 or n == 1:\n",
    "        return n\n",
    "    else:\n",
    "        return fib(n-2) + fib(n-1)\n",
    "    \n",
    "fib(5)"
   ]
  },
  {
   "cell_type": "markdown",
   "metadata": {},
   "source": [
    "### Recursive implementation with memoisation"
   ]
  },
  {
   "cell_type": "code",
   "execution_count": 5,
   "metadata": {},
   "outputs": [
    {
     "data": {
      "text/plain": [
       "5"
      ]
     },
     "execution_count": 5,
     "metadata": {},
     "output_type": "execute_result"
    }
   ],
   "source": [
    "def fib_mem(n):\n",
    "    mem = [None] * (n+1)\n",
    "    mem[0] = 0\n",
    "    mem[1] = 1\n",
    "    return fib_mem_aux(n, mem)\n",
    "    \n",
    "def fib_mem_aux(n, mem):\n",
    "    if mem[n] is None:\n",
    "        mem[n] =  fib_mem_aux(n-2, mem) + fib_mem_aux(n-1, mem)\n",
    "    return mem[n]\n",
    "    \n",
    "fib_mem(5)"
   ]
  },
  {
   "cell_type": "markdown",
   "metadata": {},
   "source": [
    "### Dynamic Programming (Bottom-up) Computation of mem:"
   ]
  },
  {
   "cell_type": "markdown",
   "metadata": {},
   "source": [
    "From the previous implementation, it seems clear that $F_n$ can be computed using the list mem[i] for i=0 to n. We can thus write an algorithm that computes this list directly, starting from the base cases, from the bottom to the top:"
   ]
  },
  {
   "cell_type": "code",
   "execution_count": 9,
   "metadata": {},
   "outputs": [
    {
     "data": {
      "text/plain": [
       "5"
      ]
     },
     "execution_count": 9,
     "metadata": {},
     "output_type": "execute_result"
    }
   ],
   "source": [
    "def fib_dp(n):\n",
    "    mem = [None] * (n+1)\n",
    "    mem[0] = 0\n",
    "    mem[1] = 1\n",
    "    \n",
    "    for i in range(2, n+1):\n",
    "        mem[i] = mem[i-1] + mem[i-2]\n",
    "    return mem[n]\n",
    "\n",
    "fib_dp(5)"
   ]
  },
  {
   "cell_type": "markdown",
   "metadata": {},
   "source": [
    "### Testing"
   ]
  },
  {
   "cell_type": "markdown",
   "metadata": {},
   "source": [
    "We also test the accumulator version seen in a previous lecture:"
   ]
  },
  {
   "cell_type": "code",
   "execution_count": 11,
   "metadata": {},
   "outputs": [
    {
     "name": "stdout",
     "output_type": "stream",
     "text": [
      "23.082560774011654\n",
      "2.976857514004223\n",
      "1.5252863470086595\n",
      "1.8258997819939395\n"
     ]
    }
   ],
   "source": [
    "def fib_acc(n):\n",
    "    return fib_aux(n, 0, 1)\n",
    "\n",
    "def fib_aux(n, before_last, last):\n",
    "    if n == 0:\n",
    "        return before_last\n",
    "    else:\n",
    "        return fib_aux(n-1, last, before_last+last)\n",
    "    \n",
    "import timeit\n",
    "print(timeit.timeit('fib(10)',\\\n",
    "              \"from __main__ import fib\"))\n",
    "print(timeit.timeit('fib_mem(10)',\\\n",
    "              \"from __main__ import fib_mem\"))\n",
    "print(timeit.timeit('fib_dp(10)',\\\n",
    "              \"from __main__ import fib_dp\"))\n",
    "print(timeit.timeit('fib_acc(10)',\\\n",
    "              \"from __main__ import fib_acc\"))"
   ]
  },
  {
   "cell_type": "markdown",
   "metadata": {},
   "source": [
    "## Longuest sequence of positive numbers (LSP)"
   ]
  },
  {
   "cell_type": "markdown",
   "metadata": {},
   "source": [
    "Given a list of numbers, we want to find the length of the longuest sequence of positive numbers (LSP). For instance, given  "
   ]
  },
  {
   "cell_type": "code",
   "execution_count": 49,
   "metadata": {},
   "outputs": [],
   "source": [
    "l = [1, 2, 0, -4, 1, 7, 8, 9, 0, 1, 0, 0, -5, -9, -4, 1]"
   ]
  },
  {
   "cell_type": "markdown",
   "metadata": {},
   "source": [
    "the longuest sequence of positive number is $[1, 7, 8, 9]$ and has length 4."
   ]
  },
  {
   "cell_type": "markdown",
   "metadata": {},
   "source": [
    "**To solve a problem using DP, we must identify subproblems such that:**\n",
    "* One or more subproblems are base cases, which we can solve directly,\n",
    "* Any other subproblem can be computed using other subproblems that have already been computed,\n",
    "* The answer to the original problem can be readily retrieved from one or more subproblems."
   ]
  },
  {
   "cell_type": "markdown",
   "metadata": {},
   "source": [
    "We can state the subproblem as \"Given an index $i \\in \\{0, \\dots, n-1\\}$, what is the LSP in the list $l[0:i+1]$ which uses $i$? We denote $L[i]$ the LSP for index $i$."
   ]
  },
  {
   "cell_type": "markdown",
   "metadata": {},
   "source": [
    "* A base case is for i=0:\n",
    "$L[0] =\n",
    "\\begin{cases}\n",
    "1 \\text{ if } l[0] > 0,\\\\\n",
    "0 \\text{ otherwise.}\n",
    "\\end{cases}$\n",
    "* The general case for i>0 is:\n",
    "$L[i] = \n",
    "\\begin{cases}\n",
    "1 + L[i-1] \\text{ if } l[i] > 0,\\\\\n",
    "0 \\text{ otherwise.}\n",
    "\\end{cases}$\n",
    "* The answer to the entire problem is simply the maximum value in $L$. Indeed, the LSP of a sequence is the maximum over all indices $i$ of the longuest sequence which ends at $i$, which we have called $L[i]$."
   ]
  },
  {
   "cell_type": "markdown",
   "metadata": {},
   "source": [
    "In Python, this would give us:"
   ]
  },
  {
   "cell_type": "code",
   "execution_count": 52,
   "metadata": {},
   "outputs": [],
   "source": [
    "def LSP(l):\n",
    "    \"\"\"Returns the LSP of the input list.\"\"\"\n",
    "    n = len(l)\n",
    "    L = [None]*n\n",
    "    for i in range(0, n):\n",
    "        LSP_aux(l, L, i)\n",
    "    #print(L)\n",
    "    return max(L)\n",
    "    \n",
    "#We have written this as a function for clarity.\n",
    "#In practice this would be written directly in the for loop.\n",
    "def LSP_aux(l, L, i):\n",
    "    \"\"\"Computes L[i] using exactly the\n",
    "       mathematical definition of L given above.\"\"\"\n",
    "    if i == 0:\n",
    "        if l[0] > 0:\n",
    "            L[0] = 1\n",
    "        else:\n",
    "            L[0] = 0\n",
    "    else:\n",
    "        if l[i] > 0:\n",
    "            L[i] = 1 + L[i-1]\n",
    "        else:\n",
    "            L[i] = 0"
   ]
  },
  {
   "cell_type": "code",
   "execution_count": 53,
   "metadata": {},
   "outputs": [
    {
     "name": "stdout",
     "output_type": "stream",
     "text": [
      "4\n",
      "2\n",
      "0\n"
     ]
    },
    {
     "data": {
      "text/plain": [
       "0"
      ]
     },
     "execution_count": 53,
     "metadata": {},
     "output_type": "execute_result"
    }
   ],
   "source": [
    "print(LSP(l))\n",
    "print(LSP(l[:4]))\n",
    "print(LSP(l[2:4]))\n",
    "LSP([-1])"
   ]
  },
  {
   "cell_type": "markdown",
   "metadata": {},
   "source": [
    "What is the complexity of our algorithm?"
   ]
  },
  {
   "cell_type": "markdown",
   "metadata": {},
   "source": [
    "LSP_aux runs in $O(1)$ and thus $LSP$ is clearly $O(n)$."
   ]
  },
  {
   "cell_type": "markdown",
   "metadata": {},
   "source": [
    "Extra question: how would you write the above algorithm recursively?"
   ]
  },
  {
   "cell_type": "markdown",
   "metadata": {},
   "source": [
    "## Maximum subsequence sum (MSS)"
   ]
  },
  {
   "cell_type": "markdown",
   "metadata": {},
   "source": [
    "In this problem, we wish to find the non-empty subsequence which the highest sum. For instance, given the sequence"
   ]
  },
  {
   "cell_type": "code",
   "execution_count": 54,
   "metadata": {},
   "outputs": [],
   "source": [
    "l = [1, 2, 0, -4, 1, 2, 96, -1, -100, 99, 0, 0, -5, -9, -7, 25]"
   ]
  },
  {
   "cell_type": "markdown",
   "metadata": {},
   "source": [
    "the MSS is 103 for the subsequence $[99, 0, 0, -5, -9, -7, 25]$. A naive approach runs in $O(n^3)$ (see slides), which can be improved to $O(n^2)$."
   ]
  },
  {
   "cell_type": "markdown",
   "metadata": {},
   "source": [
    "How do we formulate a subproblem to solve the MSS?"
   ]
  },
  {
   "cell_type": "markdown",
   "metadata": {},
   "source": [
    "* A base case is for i=0:\n",
    "$L[0] = l[0]$\n",
    "* The general case for i>0 is:  \n",
    "$L[i] =\\begin{cases}\n",
    "l[i] + L[i-1] \\text{ if } L[i-1] > 0,\\\\\n",
    "l[i] \\text{ otherwise.}\n",
    "\\end{cases}$  \n",
    "More simply,\n",
    "$L[i] = \\max(l[i] + L[i-1], l[i])$.\n",
    "* The answer to the entire problem is simply the maximum value in $L$."
   ]
  },
  {
   "cell_type": "markdown",
   "metadata": {},
   "source": [
    "We can implement this directly in Python:"
   ]
  },
  {
   "cell_type": "code",
   "execution_count": 55,
   "metadata": {},
   "outputs": [],
   "source": [
    "def MSS(l):\n",
    "    \"\"\"Returns the MSS of the input list.\"\"\"\n",
    "    n = len(l)\n",
    "    L = [None]*n\n",
    "    for i in range(0, n):\n",
    "        MSS_aux(l, L, i)\n",
    "    #print(L)\n",
    "    return max(L)\n",
    "    \n",
    "#We have written this as a function for clarity.\n",
    "#In practice this would be written directly in the for loop.\n",
    "def MSS_aux(l, L, i):\n",
    "    \"\"\"Computes L[i] using exactly the\n",
    "       mathematical definition of L given above.\"\"\"\n",
    "    if i == 0:\n",
    "            L[0] = l[0]\n",
    "    else:\n",
    "            L[i] = max(l[i]+L[i-1],l[i])"
   ]
  },
  {
   "cell_type": "code",
   "execution_count": 56,
   "metadata": {},
   "outputs": [
    {
     "name": "stdout",
     "output_type": "stream",
     "text": [
      "103\n",
      "99\n",
      "180\n"
     ]
    }
   ],
   "source": [
    "print(MSS(l))\n",
    "print(MSS(l[:-1]))\n",
    "print(MSS([90, 90, 0, -200, 1, 2, 96, -1, -100, 99, 0, 0, -5, -9, -7, 25]))"
   ]
  }
 ],
 "metadata": {
  "kernelspec": {
   "display_name": "Python 3",
   "language": "python",
   "name": "python3"
  },
  "language_info": {
   "codemirror_mode": {
    "name": "ipython",
    "version": 3
   },
   "file_extension": ".py",
   "mimetype": "text/x-python",
   "name": "python",
   "nbconvert_exporter": "python",
   "pygments_lexer": "ipython3",
   "version": "3.5.2"
  }
 },
 "nbformat": 4,
 "nbformat_minor": 2
}